{
 "cells": [
  {
   "cell_type": "markdown",
   "metadata": {},
   "source": [
    "https://leetcode.com/problems/add-two-numbers/"
   ]
  },
  {
   "cell_type": "code",
   "execution_count": 1,
   "metadata": {},
   "outputs": [],
   "source": [
    "from typing import List\n",
    "\n",
    "\n",
    "# Definition for singly-linked list.\n",
    "class ListNode:\n",
    "    def __init__(self, x):\n",
    "        self.val = x\n",
    "        self.next = None\n",
    "\n",
    "\n",
    "class Solution:\n",
    "    # 연결 리스트 뒤집기\n",
    "    def reverseList(self, head: ListNode) -> ListNode:\n",
    "        node, prev = head, None\n",
    "\n",
    "        while node:\n",
    "            next, node.next = node.next, prev\n",
    "            prev, node = node, next\n",
    "\n",
    "        return prev\n",
    "\n",
    "    # 연결 리스트를 파이썬 리스트로 변환\n",
    "    def toList(self, node: ListNode) -> List:\n",
    "        list: List = []\n",
    "        while node:\n",
    "            list.append(node.val)\n",
    "            node = node.next\n",
    "        return list\n",
    "\n",
    "    # 파이썬 리스트를 연결 리스트로 변환\n",
    "    def toReversedLinkedList(self, result: str) -> ListNode:\n",
    "        prev: ListNode = None\n",
    "        for r in result:\n",
    "            node = ListNode(r)\n",
    "            node.next = prev\n",
    "            prev = node\n",
    "\n",
    "        return node\n",
    "\n",
    "    # 두 연결 리스트의 덧셈\n",
    "    def addTwoNumbers(self, l1: ListNode, l2: ListNode) -> ListNode:\n",
    "        a = self.toList(self.reverseList(l1))\n",
    "        b = self.toList(self.reverseList(l2))\n",
    "\n",
    "        resultStr = int(''.join(str(e) for e in a)) + \\\n",
    "                    int(''.join(str(e) for e in b))\n",
    "\n",
    "        # 최종 계산 결과 연결 리스트 변환\n",
    "        return self.toReversedLinkedList(str(resultStr))"
   ]
  },
  {
   "cell_type": "code",
   "execution_count": null,
   "metadata": {},
   "outputs": [],
   "source": [
    "# Definition for singly-linked list.\n",
    "class ListNode:\n",
    "    def __init__(self, x):\n",
    "        self.val = x\n",
    "        self.next = None\n",
    "\n",
    "\n",
    "class Solution:\n",
    "    def addTwoNumbers(self, l1: ListNode, l2: ListNode) -> ListNode:\n",
    "        root = head = ListNode(0)\n",
    "\n",
    "        carry = 0\n",
    "        while l1 or l2 or carry:\n",
    "            sum = 0\n",
    "            # 두 입력값의 합 계산\n",
    "            if l1:\n",
    "                sum += l1.val\n",
    "                l1 = l1.next\n",
    "            if l2:\n",
    "                sum += l2.val\n",
    "                l2 = l2.next\n",
    "\n",
    "            # 몫(자리올림수)과 나머지(값) 계산\n",
    "            carry, val = divmod(sum + carry, 10)\n",
    "            head.next = ListNode(val)\n",
    "            head = head.next\n",
    "\n",
    "        return root.next"
   ]
  }
 ],
 "metadata": {
  "kernelspec": {
   "display_name": "Python 3",
   "language": "python",
   "name": "python3"
  },
  "language_info": {
   "codemirror_mode": {
    "name": "ipython",
    "version": 3
   },
   "file_extension": ".py",
   "mimetype": "text/x-python",
   "name": "python",
   "nbconvert_exporter": "python",
   "pygments_lexer": "ipython3",
   "version": "3.8.5"
  }
 },
 "nbformat": 4,
 "nbformat_minor": 4
}
