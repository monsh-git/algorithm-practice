{
 "cells": [
  {
   "cell_type": "markdown",
   "metadata": {},
   "source": [
    "https://leetcode.com/problems/longest-palindromic-substring"
   ]
  },
  {
   "cell_type": "code",
   "execution_count": null,
   "metadata": {},
   "outputs": [],
   "source": [
    "def longestPalindrome(s):\n",
    "    # 팰린드롬 판별 및 투 포인터 확장\n",
    "    def expand(left: int, right: int):\n",
    "        while left >= 0 and right <= len(s) and s[left] == s[right-1]:\n",
    "            left -= 1\n",
    "            right += 1\n",
    "        return s[left+1 : right-1]\n",
    "\n",
    "    \n",
    "    # 해당 사항이 없을 때 빠르게 리턴\n",
    "    if len(s) < 2 or s == s[::-1]:\n",
    "        return s\n",
    "\n",
    "    result = ''\n",
    "\n",
    "    # 슬라이딩 윈도우 우측으로 이동\n",
    "    for i in range(len(s)-1):\n",
    "        result = max(result,\n",
    "        expand(i, i+1),\n",
    "        expand(i, i+2),\n",
    "        key=len)\n",
    "\n",
    "    return result"
   ]
  },
  {
   "cell_type": "code",
   "execution_count": 3,
   "metadata": {},
   "outputs": [
    {
     "data": {
      "text/plain": [
       "'bab'"
      ]
     },
     "execution_count": 3,
     "metadata": {},
     "output_type": "execute_result"
    }
   ],
   "source": [
    "longestPalindrome(\"babad\")"
   ]
  }
 ],
 "metadata": {
  "kernelspec": {
   "display_name": "Python 3",
   "language": "python",
   "name": "python3"
  },
  "language_info": {
   "codemirror_mode": {
    "name": "ipython",
    "version": 3
   },
   "file_extension": ".py",
   "mimetype": "text/x-python",
   "name": "python",
   "nbconvert_exporter": "python",
   "pygments_lexer": "ipython3",
   "version": "3.8.5"
  }
 },
 "nbformat": 4,
 "nbformat_minor": 2
}
