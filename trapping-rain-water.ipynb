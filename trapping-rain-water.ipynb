{
 "cells": [
  {
   "cell_type": "markdown",
   "metadata": {},
   "source": [
    "https://leetcode.com/problems/trapping-rain-water"
   ]
  },
  {
   "cell_type": "markdown",
   "metadata": {},
   "source": [
    "# 빗물 트래핑"
   ]
  },
  {
   "cell_type": "code",
   "execution_count": 1,
   "metadata": {},
   "outputs": [],
   "source": [
    "height = [0, 1, 0, 2, 1, 0, 1, 3, 2, 1, 2, 1]"
   ]
  },
  {
   "cell_type": "code",
   "execution_count": 2,
   "metadata": {},
   "outputs": [],
   "source": [
    "def trap1(height: list):\n",
    "    if not height:\n",
    "        return 0\n",
    "    \n",
    "    volume = 0\n",
    "    left, right = 0, len(height) - 1\n",
    "    left_max, right_max = height[left], height[right]\n",
    "    \n",
    "    while left < right:\n",
    "        left_max, right_max = max(height[left], left_max), max(height[right], right_max)\n",
    "        # 더 높은 쪽을 향해 투 포인터 이동\n",
    "        if left_max <= right_max:\n",
    "            volume += left_max - height[left]\n",
    "            left += 1\n",
    "        else:\n",
    "            volume += right_max - height[right]\n",
    "            right -= 1\n",
    "            \n",
    "    return volume"
   ]
  },
  {
   "cell_type": "code",
   "execution_count": 3,
   "metadata": {},
   "outputs": [
    {
     "data": {
      "text/plain": [
       "6"
      ]
     },
     "execution_count": 3,
     "metadata": {},
     "output_type": "execute_result"
    }
   ],
   "source": [
    "trap1(height)"
   ]
  },
  {
   "cell_type": "code",
   "execution_count": 4,
   "metadata": {},
   "outputs": [],
   "source": [
    "def trap2(height: list):\n",
    "    stack = []\n",
    "    volume = 0\n",
    "    \n",
    "    for i in range(len(height)):     \n",
    "        # 변곡점을 만나는 경우(= 지금 만난 벽이 더 높은 경우)\n",
    "        # 지금 만난 벽이 마지막으로 만났던 벽보다 높지 않은 경우에는 계속 스택을 쌓는다\n",
    "        while stack and height[i] > height[stack[-1]]:\n",
    "            # 스택에서 꺼낸다\n",
    "            top = stack.pop()\n",
    "            \n",
    "            if not len(stack):\n",
    "                break\n",
    "                \n",
    "            # 이전과의 차이만큼 물 높이 처리\n",
    "            distance = i - stack[-1] - 1\n",
    "            waters = min(height[i], height[stack[-1]]) - height[top]\n",
    "\n",
    "            volume += distance * waters\n",
    "\n",
    "        stack.append(i)\n",
    "\n",
    "    return volume"
   ]
  },
  {
   "cell_type": "code",
   "execution_count": 5,
   "metadata": {},
   "outputs": [
    {
     "data": {
      "text/plain": [
       "6"
      ]
     },
     "execution_count": 5,
     "metadata": {},
     "output_type": "execute_result"
    }
   ],
   "source": [
    "trap2(height)"
   ]
  },
  {
   "cell_type": "code",
   "execution_count": null,
   "metadata": {},
   "outputs": [],
   "source": []
  }
 ],
 "metadata": {
  "kernelspec": {
   "display_name": "Python 3",
   "language": "python",
   "name": "python3"
  },
  "language_info": {
   "codemirror_mode": {
    "name": "ipython",
    "version": 3
   },
   "file_extension": ".py",
   "mimetype": "text/x-python",
   "name": "python",
   "nbconvert_exporter": "python",
   "pygments_lexer": "ipython3",
   "version": "3.8.5"
  }
 },
 "nbformat": 4,
 "nbformat_minor": 4
}
